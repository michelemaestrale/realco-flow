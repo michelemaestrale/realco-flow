{
 "cells": [
  {
   "attachments": {},
   "cell_type": "markdown",
   "metadata": {},
   "source": []
  },
  {
   "cell_type": "code",
   "execution_count": 15,
   "metadata": {},
   "outputs": [],
   "source": [
    "import xml.etree.ElementTree as ET\n",
    "import csv\n",
    "import os\n",
    "import datetime\n",
    "import shutil\n",
    "import paramiko"
   ]
  },
  {
   "cell_type": "code",
   "execution_count": 16,
   "metadata": {},
   "outputs": [],
   "source": [
    "\n",
    "# SFTP connection parameters\n",
    "host = \"sftp-partners.glovoapp.com\"\n",
    "port = 22\n",
    "username = \"realco-it\"\n",
    "password = \"FI5MC3Yt2RLeyPo7HNY6jswD\"\n",
    "folder = \"/Users/michelemaestrale/Desktop/GLOVO/REALCO/flow\"\n",
    "\n",
    "server = paramiko.SSHClient()\n",
    "server.set_missing_host_key_policy(paramiko.AutoAddPolicy())\n",
    "server.connect(hostname = host, username = username, password = password, port = port)\n",
    "ftp = server.open_sftp()\n",
    "\n",
    "\n",
    "localpath = '/Users/michelemaestrale/Desktop/GLOVO/REALCO/flow'\n",
    "remotepath = '/glovoapp-partners-sftp-bucket-121e9009/home/realco-it/Input_realco-it'\n",
    "\n",
    "for file in ftp.listdir(remotepath):\n",
    "    ftp.get(remotepath+'/'+file, localpath+'/'+file)\n",
    "\n",
    "ftp.close()\n",
    "server.close()"
   ]
  },
  {
   "cell_type": "code",
   "execution_count": 17,
   "metadata": {},
   "outputs": [],
   "source": [
    "#lettura del file di menu:\n",
    "product_list = []\n",
    "\n",
    "for file in os.listdir(folder):\n",
    "    # Check if file is a .xml file with \"cedi\" in its name\n",
    "    if file.endswith('.xml') and 'cedi' in file:\n",
    "        # Parse the XML file\n",
    "        tree = ET.parse(os.path.join(folder, file))\n",
    "        root = tree.getroot()\n",
    "        for child in root:\n",
    "            for subchild in child:\n",
    "                if subchild.tag == 'ProductId':\n",
    "                    product_list.append(subchild.text)"
   ]
  },
  {
   "cell_type": "code",
   "execution_count": 14,
   "metadata": {},
   "outputs": [],
   "source": [
    "# print(product_list)"
   ]
  },
  {
   "cell_type": "code",
   "execution_count": 21,
   "metadata": {},
   "outputs": [
    {
     "name": "stdout",
     "output_type": "stream",
     "text": [
      "[('Realco_3960_2023-01-20_14-45-52.csv', True), ('Realco_1111_2023-01-20_14-45-53.csv', True), ('Realco_3960_2023-01-20_14-45-55.csv', True)]\n"
     ]
    }
   ],
   "source": [
    "#nuova to test\n",
    "\n",
    "# list to store the result of each file transformation\n",
    "results = []\n",
    "\n",
    "# iterate through all files in the folder\n",
    "for filename in os.listdir(folder):\n",
    "    # check if the file is an xml file and if the file name contains 'PDV'\n",
    "    if filename.endswith(\".xml\") and 'PDV' in filename:\n",
    "        # parse xml file\n",
    "        try:\n",
    "            tree = ET.parse(os.path.join(folder, filename))\n",
    "            root = tree.getroot()\n",
    "\n",
    "            # get store_name, store and timestamp\n",
    "            store_name = 'Realco'\n",
    "            store = root.attrib[\"PDV\"]\n",
    "            timestamp = datetime.datetime.now().strftime(\"%Y-%m-%d_%H-%M-%S\")\n",
    "\n",
    "            # create the filename\n",
    "            filename = f\"{store_name}_{store}_{timestamp}.csv\"\n",
    "\n",
    "            # open a csv file for writing\n",
    "            with open(os.path.join(folder, filename), 'w', newline='') as csvfile:\n",
    "                csvwriter = csv.writer(csvfile)\n",
    "                csvwriter.writerow([\"store_id\",\"product_id\",\"price\",\"stock\"])\n",
    "\n",
    "                # get store_id from xml\n",
    "                store_id = root.attrib[\"PDV\"]\n",
    "                filtered_product = product_list\n",
    "                \n",
    "\n",
    "                # iterate over all articles\n",
    "                for article in root:\n",
    "                    \n",
    "                    product_id = article.find(\"ProductId\").text\n",
    "                    filtered_product = [x for x in filtered_product if x != product_id]\n",
    "                    price_promo = article.find(\"PricePromo\").text\n",
    "                    price = article.find(\"Price\").text\n",
    "\n",
    "                    # set price to PricePromo if it's not equal to 0, otherwise set it to Price\n",
    "                    if price_promo != \"0.00\":\n",
    "                        price = price_promo\n",
    "                    else:\n",
    "                        price = price\n",
    "                    # set stock to 10 for all records\n",
    "                    stock = 10\n",
    "                    if float(price)>0:\n",
    "                        # write to csv\n",
    "                        csvwriter.writerow([store_id, product_id, price, stock])\n",
    "                for id in filtered_product:\n",
    "                    csvwriter.writerow([store_id, id, 9999, 0])\n",
    "                    \n",
    "                \n",
    "            results.append((filename, True))\n",
    "        except:\n",
    "            results.append((filename, False))\n",
    "\n",
    "print(results)\n",
    "\n"
   ]
  },
  {
   "cell_type": "code",
   "execution_count": 22,
   "metadata": {},
   "outputs": [],
   "source": [
    "# SFTP connection parameters\n",
    "host = \"sftp-partners.glovoapp.com\"\n",
    "port = 22\n",
    "username = \"realco-it\"\n",
    "password = \"FI5MC3Yt2RLeyPo7HNY6jswD\"\n",
    "\n",
    "server = paramiko.SSHClient()\n",
    "server.set_missing_host_key_policy(paramiko.AutoAddPolicy())\n",
    "server.connect(hostname = host, username = username, password = password, port = port)\n",
    "ftp = server.open_sftp()\n",
    "\n",
    "\n",
    "localpath = '/Users/michelemaestrale/Desktop/GLOVO/REALCO/flow'\n",
    "remotepath = '/glovoapp-partners-sftp-bucket-121e9009/home/realco-it/Input_realco-it'\n",
    "\n",
    "for file in os.listdir(localpath):\n",
    "    if file.endswith('.csv'):\n",
    "        ftp.put(localpath+'/'+file, remotepath+'/'+file)\n",
    "\n",
    "ftp.close()\n",
    "server.close()"
   ]
  },
  {
   "cell_type": "code",
   "execution_count": 5,
   "metadata": {},
   "outputs": [],
   "source": [
    "\n",
    "source = '/Users/michelemaestrale/Desktop/GLOVO/REALCO/flow'\n",
    "destination = '/Users/michelemaestrale/Desktop/GLOVO/REALCO/flow/old'\n",
    "\n",
    "for f in os.listdir(source):\n",
    "    if os.path.exists(destination+'/'+f):\n",
    "        os.remove(destination+'/'+f)\n",
    "    shutil.move(source+'/'+f, destination)"
   ]
  },
  {
   "cell_type": "code",
   "execution_count": 24,
   "metadata": {},
   "outputs": [],
   "source": [
    "import shutil\n",
    "import os\n",
    "\n",
    "#csvpath = f\"\"\"/Users/michelemaestrale/Desktop/GLOVO/Integration_dive_deep/{store_name}/csvtozero\"\"\"\n",
    "## UP TO DATE\n",
    "#csvpath = f\"\"\"/Users/michelemaestrale/Desktop/GLOVO/Integration_dive_deep/{store_name}/uptodate\"\"\"\n",
    "\n",
    "# Set the source and destination folder paths\n",
    "src_folder = '/Users/michelemaestrale/Desktop/GLOVO/REALCO/flow'\n",
    "dst_folder = '/Users/michelemaestrale/Desktop/GLOVO/REALCO/flow/old'\n",
    "\n",
    "# Iterate through all files in the source folder\n",
    "for file_name in os.listdir(src_folder):\n",
    "    src_file = os.path.join(src_folder, file_name)\n",
    "    dst_file = os.path.join(dst_folder, file_name)\n",
    "\n",
    "    # Move the file to the destination folder (replace if already present)\n",
    "    if os.path.isfile(src_file):\n",
    "        # Move the file to the destination folder (replace if already present)\n",
    "        shutil.move(src_file, dst_file)\n",
    "\n",
    "    # Set the source and destination folder paths\n"
   ]
  },
  {
   "cell_type": "code",
   "execution_count": null,
   "metadata": {},
   "outputs": [],
   "source": []
  }
 ],
 "metadata": {
  "kernelspec": {
   "display_name": "Python 3",
   "language": "python",
   "name": "python3"
  },
  "language_info": {
   "codemirror_mode": {
    "name": "ipython",
    "version": 3
   },
   "file_extension": ".py",
   "mimetype": "text/x-python",
   "name": "python",
   "nbconvert_exporter": "python",
   "pygments_lexer": "ipython3",
   "version": "3.9.6"
  },
  "orig_nbformat": 4,
  "vscode": {
   "interpreter": {
    "hash": "31f2aee4e71d21fbe5cf8b01ff0e069b9275f58929596ceb00d14d90e3e16cd6"
   }
  }
 },
 "nbformat": 4,
 "nbformat_minor": 2
}
